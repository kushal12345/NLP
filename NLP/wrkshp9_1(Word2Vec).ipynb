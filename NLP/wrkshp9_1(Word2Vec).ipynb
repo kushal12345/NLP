{
 "cells": [
  {
   "cell_type": "code",
   "execution_count": 1,
   "metadata": {},
   "outputs": [
    {
     "name": "stderr",
     "output_type": "stream",
     "text": [
      "/usr/lib/python3.6/site-packages/h5py/__init__.py:36: FutureWarning: Conversion of the second argument of issubdtype from `float` to `np.floating` is deprecated. In future, it will be treated as `np.float64 == np.dtype(float).type`.\n",
      "  from ._conv import register_converters as _register_converters\n",
      "Using TensorFlow backend.\n"
     ]
    }
   ],
   "source": [
    "import nltk\n",
    "import matplotlib.pyplot as plt\n",
    "import numpy as np\n",
    "from gensim.models import Word2Vec\n",
    "%matplotlib inline"
   ]
  },
  {
   "cell_type": "code",
   "execution_count": 4,
   "metadata": {},
   "outputs": [],
   "source": [
    "documents = [\n",
    "        \" I am  kushal. i live in kathmandu. i am computer engineer \",\n",
    "        \" i love programming. programming is life.\",\n",
    "        \" i love games too. it's life too\",\n",
    "        \" i love making robots\"\n",
    "]"
   ]
  },
  {
   "cell_type": "code",
   "execution_count": 5,
   "metadata": {},
   "outputs": [
    {
     "data": {
      "text/plain": [
       "[['I',\n",
       "  'am',\n",
       "  'kushal',\n",
       "  '.',\n",
       "  'i',\n",
       "  'live',\n",
       "  'in',\n",
       "  'kathmandu',\n",
       "  '.',\n",
       "  'i',\n",
       "  'am',\n",
       "  'computer',\n",
       "  'engineer'],\n",
       " ['i', 'love', 'programming', '.', 'programming', 'is', 'life', '.'],\n",
       " ['i', 'love', 'games', 'too', '.', 'it', \"'s\", 'life', 'too'],\n",
       " ['i', 'love', 'making', 'robots']]"
      ]
     },
     "execution_count": 5,
     "metadata": {},
     "output_type": "execute_result"
    }
   ],
   "source": [
    "tokens = [nltk.word_tokenize(doc) for doc in documents]\n",
    "tokens"
   ]
  },
  {
   "cell_type": "code",
   "execution_count": 8,
   "metadata": {},
   "outputs": [
    {
     "name": "stdout",
     "output_type": "stream",
     "text": [
      "Word2Vec(vocab=20, size=2, alpha=0.025)\n"
     ]
    }
   ],
   "source": [
    "model = Word2Vec(tokens, min_count=1, size=2)\n",
    "print(model)"
   ]
  },
  {
   "cell_type": "code",
   "execution_count": 10,
   "metadata": {},
   "outputs": [
    {
     "data": {
      "text/plain": [
       "['I',\n",
       " 'am',\n",
       " 'kushal',\n",
       " '.',\n",
       " 'i',\n",
       " 'live',\n",
       " 'in',\n",
       " 'kathmandu',\n",
       " 'computer',\n",
       " 'engineer',\n",
       " 'love',\n",
       " 'programming',\n",
       " 'is',\n",
       " 'life',\n",
       " 'games',\n",
       " 'too',\n",
       " 'it',\n",
       " \"'s\",\n",
       " 'making',\n",
       " 'robots']"
      ]
     },
     "execution_count": 10,
     "metadata": {},
     "output_type": "execute_result"
    }
   ],
   "source": [
    "words = list(model.wv.vocab) \n",
    "words"
   ]
  },
  {
   "cell_type": "code",
   "execution_count": 11,
   "metadata": {},
   "outputs": [
    {
     "data": {
      "text/plain": [
       "array([0.0986801 , 0.12145854], dtype=float32)"
      ]
     },
     "execution_count": 11,
     "metadata": {},
     "output_type": "execute_result"
    }
   ],
   "source": [
    "model['kushal']"
   ]
  },
  {
   "cell_type": "code",
   "execution_count": 12,
   "metadata": {},
   "outputs": [
    {
     "data": {
      "text/plain": [
       "array([0.14273243, 0.18418202], dtype=float32)"
      ]
     },
     "execution_count": 12,
     "metadata": {},
     "output_type": "execute_result"
    }
   ],
   "source": [
    "model['engineer']"
   ]
  },
  {
   "cell_type": "code",
   "execution_count": 13,
   "metadata": {},
   "outputs": [],
   "source": [
    "model.save('kushal.model')"
   ]
  },
  {
   "cell_type": "code",
   "execution_count": 20,
   "metadata": {},
   "outputs": [],
   "source": [
    "model=Word2Vec.load('kushal.model')"
   ]
  },
  {
   "cell_type": "code",
   "execution_count": 25,
   "metadata": {},
   "outputs": [
    {
     "data": {
      "text/plain": [
       "array([0.0986801 , 0.12145854], dtype=float32)"
      ]
     },
     "execution_count": 25,
     "metadata": {},
     "output_type": "execute_result"
    }
   ],
   "source": [
    "model['kushal']"
   ]
  },
  {
   "cell_type": "code",
   "execution_count": 27,
   "metadata": {},
   "outputs": [
    {
     "data": {
      "text/plain": [
       "array([[-0.06405305,  0.03483329],\n",
       "       [ 0.18571202, -0.08789073],\n",
       "       [ 0.0986801 ,  0.12145854],\n",
       "       [-0.17997785,  0.15444364],\n",
       "       [ 0.17642361, -0.15659013],\n",
       "       [ 0.19604234, -0.2464999 ],\n",
       "       [-0.21690035,  0.14055003],\n",
       "       [-0.17185552, -0.01418673],\n",
       "       [ 0.05798269,  0.14886068],\n",
       "       [ 0.14273243,  0.18418202],\n",
       "       [-0.16973451, -0.12156926],\n",
       "       [-0.02783644, -0.20525794],\n",
       "       [-0.23345275,  0.0406457 ],\n",
       "       [-0.22480218,  0.17388228],\n",
       "       [-0.1876317 ,  0.10015085],\n",
       "       [-0.08796878,  0.19138889],\n",
       "       [-0.00448904, -0.0813017 ],\n",
       "       [ 0.17665957,  0.05616023],\n",
       "       [ 0.21315227,  0.09638264],\n",
       "       [ 0.05729757,  0.16746303]], dtype=float32)"
      ]
     },
     "execution_count": 27,
     "metadata": {},
     "output_type": "execute_result"
    }
   ],
   "source": [
    "vectors = model[words]\n",
    "vectors"
   ]
  },
  {
   "cell_type": "code",
   "execution_count": 30,
   "metadata": {},
   "outputs": [],
   "source": [
    "x = vectors[:, 0]\n",
    "y = vectors[:, 1]"
   ]
  },
  {
   "cell_type": "code",
   "execution_count": 32,
   "metadata": {},
   "outputs": [
    {
     "data": {
      "text/plain": [
       "<matplotlib.collections.PathCollection at 0x7fbdf9a0f438>"
      ]
     },
     "execution_count": 32,
     "metadata": {},
     "output_type": "execute_result"
    },
    {
     "data": {
      "image/png": "[encoded data removed]",
      "text/plain": [
       "<Figure size 432x288 with 1 Axes>"
      ]
     },
     "metadata": {},
     "output_type": "display_data"
    }
   ],
   "source": [
    "plt.scatter(x,y)"
   ]
  },
  {
   "cell_type": "code",
   "execution_count": 36,
   "metadata": {},
   "outputs": [
    {
     "data": {
      "image/png": "[encoded data removed]",
      "text/plain": [
       "<Figure size 432x288 with 1 Axes>"
      ]
     },
     "metadata": {},
     "output_type": "display_data"
    }
   ],
   "source": [
    "fig, ax = plt.subplots()\n",
    "ax.scatter(x,y)\n",
    "\n",
    "for i, txt in enumerate(words):\n",
    "    ax.annotate(txt,(x[i],y[i]))"
   ]
  },
  {
   "cell_type": "code",
   "execution_count": 45,
   "metadata": {},
   "outputs": [
    {
     "data": {
      "text/plain": [
       "[('engineer', 0.9997352361679077),\n",
       " ('computer', 0.9520703554153442),\n",
       " ('robots', 0.9384685754776001)]"
      ]
     },
     "execution_count": 45,
     "metadata": {},
     "output_type": "execute_result"
    }
   ],
   "source": [
    "model.most_similar(positive=['kushal'], topn=3)"
   ]
  },
  {
   "cell_type": "code",
   "execution_count": 49,
   "metadata": {},
   "outputs": [
    {
     "data": {
      "text/plain": [
       "[('love', 0.9645754098892212),\n",
       " ('programming', 0.8538298606872559),\n",
       " ('it', 0.8097129464149475)]"
      ]
     },
     "execution_count": 49,
     "metadata": {},
     "output_type": "execute_result"
    }
   ],
   "source": [
    "model.most_similar(negative=['kushal'], topn=3)"
   ]
  },
  {
   "cell_type": "code",
   "execution_count": 56,
   "metadata": {},
   "outputs": [
    {
     "data": {
      "text/plain": [
       "0.115334034"
      ]
     },
     "execution_count": 56,
     "metadata": {},
     "output_type": "execute_result"
    }
   ],
   "source": [
    "res = model['life'] - model['live']\n",
    "np.dot(res,model['is'])"
   ]
  },
  {
   "cell_type": "code",
   "execution_count": null,
   "metadata": {},
   "outputs": [],
   "source": []
  }
 ],
 "metadata": {
  "kernelspec": {
   "display_name": "Python 3",
   "language": "python",
   "name": "python3"
  },
  "language_info": {
   "codemirror_mode": {
    "name": "ipython",
    "version": 3
   },
   "file_extension": ".py",
   "mimetype": "text/x-python",
   "name": "python",
   "nbconvert_exporter": "python",
   "pygments_lexer": "ipython3",
   "version": "3.6.4"
  }
 },
 "nbformat": 4,
 "nbformat_minor": 2
}
